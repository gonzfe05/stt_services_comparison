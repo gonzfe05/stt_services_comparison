{
 "cells": [
  {
   "cell_type": "markdown",
   "metadata": {},
   "source": [
    "# Performance comparison between REV and Google\n",
    "\n",
    "We will compare the WER distribution between [rev.ai](http://rev.ai) and google's transscription API.  \n",
    "We are using the testing examples of the [Noisy Speech Database](https://datashare.is.ed.ac.uk/handle/10283/2791), downsampled to 8Khz to approximate the most common phone sample rate, which affects the model's performance.  \n",
    "\n",
    "**Caveat**: This dataset is free and of open access, thus, is possible that it was used for the api's training and thus, overfitted. For ths comparison to be more robust, original audios must be used. \n"
   ]
  },
  {
   "cell_type": "markdown",
   "metadata": {},
   "source": [
    "## Requirements\n",
    "\n",
    "Libraries required for the test."
   ]
  },
  {
   "cell_type": "code",
   "execution_count": 143,
   "metadata": {
    "scrolled": true
   },
   "outputs": [
    {
     "name": "stdout",
     "output_type": "stream",
     "text": [
      "\u001b[33mWARNING: You are using pip version 20.0.2; however, version 20.2.3 is available.\r\n",
      "You should consider upgrading via the '/home/fernando/anaconda3/envs/asr/bin/python3.8 -m pip install --upgrade pip' command.\u001b[0m\r\n"
     ]
    }
   ],
   "source": [
    "# Libraries\n",
    "\n",
    "#!pip install -q jiwer\n",
    "#!pip install -q spacy\n",
    "#!pip install -q pydub\n",
    "#!pip install -q tqdm\n",
    "#!pip install -q --upgrade google-cloud-speech\n",
    "#!pip install -q --upgrade rev_ai\n",
    "#!pip install -q seaborn\n",
    "\n",
    "#!python -m spacy download en_core_web_md\n",
    "\n",
    "# If you want to train and compare with deepspeech fine tunined for 8khz, you will need this:\n",
    "#!pip install deepspeech\n",
    "#!pip install deepspeech-gpu\n"
   ]
  },
  {
   "cell_type": "markdown",
   "metadata": {},
   "source": [
    "## Load libraries"
   ]
  },
  {
   "cell_type": "code",
   "execution_count": 1,
   "metadata": {},
   "outputs": [],
   "source": [
    "# General\n",
    "import os\n",
    "import numpy as np\n",
    "from numpy import ndarray\n",
    "import IPython.display as ipd\n",
    "from tqdm import tqdm\n",
    "import seaborn\n",
    "from typing import List\n",
    "\n",
    "# For performance measure\n",
    "import jiwer\n",
    "import spacy\n",
    "nlp = spacy.load(\"en_core_web_md\", disable=[\"ner\", \"parser\"])\n",
    "\n",
    "# To feed audio\n",
    "import wave\n",
    "from scipy.io.wavfile import write\n",
    "from pydub import AudioSegment as am\n",
    "import io"
   ]
  },
  {
   "cell_type": "markdown",
   "metadata": {},
   "source": [
    "## Utility functions\n",
    "\n",
    "**Word error rate**: We will use the word error rate as a measure of performance. It will serve as a distance between the correct transcription and the model's. We will remove interjections, which are words used to express strong feeling or sudden emotion."
   ]
  },
  {
   "cell_type": "code",
   "execution_count": 2,
   "metadata": {},
   "outputs": [
    {
     "data": {
      "text/plain": [
       "0.625"
      ]
     },
     "execution_count": 2,
     "metadata": {},
     "output_type": "execute_result"
    }
   ],
   "source": [
    "def find_interjections(texts: List[str], interj_to_keep: List[str] = []) -> list:\n",
    "    \"\"\"Remove interjections.\n",
    "\n",
    "    Interjections are words used to express sudden emotion such as surprise, disgust, etc.\n",
    "    An interjection is not grammatically related to any other part of the sentence.\n",
    "    We wont consider it in the wer.\n",
    "    \n",
    "    :params texts:    Texts whose interjections will be removed\n",
    "    :params interj_to_keep:    List of interjections to keep. \n",
    "    \"\"\"\n",
    "    list_intj = []\n",
    "    # we use spacys POS tagger to find interjections\n",
    "    for doc in nlp.pipe(texts):\n",
    "        list_intj.extend([token.text for token in doc if\\\n",
    "                          token.pos_ == 'INTJ' and\\\n",
    "                          token.lower_ not in interj_to_keep])\n",
    "    return list(set(list_intj))\n",
    "\n",
    "def calc_wer(ground_truth: List[str], hypothesis: List[str]) -> float:\n",
    "    \"\"\" Compute word error rate.\n",
    "\n",
    "    Widely used measure of error fron transcriptions.\n",
    "    At low values its performance is similar yo KER, see: http://www.patwardhans.net/papers/ParkPVG08.pdf.\n",
    "    In this implementation we remove interjections, punctuation, strip trailing spaces and multiple spaces, and\n",
    "        expand common english contractions.\n",
    "    :params ground_truth:    List of correct transcriptions. Same sort order as hypothesis.\n",
    "    :params hypothesis:    List of model's transcription. Same sort order as ground_truth.\n",
    "    \"\"\"\n",
    "    # Remove interjections\n",
    "    corpus = ground_truth + hypothesis\n",
    "    # Simple preliminary list\n",
    "    interj_to_keep = ['yes', 'yeah', 'no', 'na', 'hello']\n",
    "    interjections = find_interjections(corpus, interj_to_keep)\n",
    "    \n",
    "    # Preprocessing pipe to compue wer\n",
    "    transformation = jiwer.Compose([\n",
    "        jiwer.RemoveSpecificWords(interjections),\n",
    "        jiwer.RemovePunctuation(),\n",
    "        jiwer.Strip(),\n",
    "        jiwer.RemoveEmptyStrings(),\n",
    "        jiwer.RemoveMultipleSpaces(),\n",
    "        jiwer.ToLowerCase(),\n",
    "        jiwer.SentencesToListOfWords(word_delimiter=\" \"),\n",
    "        jiwer.ExpandCommonEnglishContractions(),\n",
    "    ]) \n",
    "    \n",
    "    # calc wer\n",
    "    wer = jiwer.wer(\n",
    "        ground_truth, \n",
    "        hypothesis, \n",
    "        truth_transform=transformation, \n",
    "        hypothesis_transform=transformation\n",
    "    )\n",
    "    return wer\n",
    "\n",
    "ground_truth = [\"hello eh world No\", \"i like monthy python Yes\"]\n",
    "hypothesis = [\"hello duck na\", \"i like uhm python let's yeah\"]\n",
    "calc_wer(ground_truth, hypothesis)"
   ]
  },
  {
   "cell_type": "markdown",
   "metadata": {},
   "source": [
    "## Datasets\n",
    "\n",
    "**Audios**: We are using the testing examples of the [Noisy Speech Database](https://datashare.is.ed.ac.uk/handle/10283/2791). Download the [test audios](https://datashare.is.ed.ac.uk/bitstream/handle/10283/2791/noisy_testset_wav.zip?sequence=5&isAllowed=y) and [test transcriptions](https://datashare.is.ed.ac.uk/bitstream/handle/10283/2791/testset_txt.zip?sequence=8&isAllowed=y). The database was designed to train and test speech enhancement methods, and has 28 speakers.  \n",
    "\n",
    "**Preprocessing**: The data is in 16Khz, but telephone conversations are typically in 8Khz. Thus, we must downsample the audios, which will reduce quality and make the task more difficult.\n"
   ]
  },
  {
   "cell_type": "code",
   "execution_count": 3,
   "metadata": {
    "scrolled": true
   },
   "outputs": [],
   "source": [
    "# build paths for later accesing the audios and transcriptions\n",
    "audios_folder = 'audio/Noisy speech database - Valentini/noisy_testset_wav/'\n",
    "audios_path = [audios_folder+filename for filename in os.listdir(audios_folder)]\n",
    "transcriptions_folder = 'audio/Noisy speech database - Valentini/testset_txt/testset_txt/'\n",
    "\n",
    "# Folder for downsampled audios\n",
    "downsampled_folder = 'audio/Noisy speech database - Valentini/downsampled_audios/'\n",
    "try:\n",
    "    os.mkdir(downsampled_folder)\n",
    "except FileExistsError:\n",
    "    pass\n",
    "\n",
    "# For each filename in the audios folder, create a path in the downsampled folder\n",
    "downsampled_audios_path = [downsampled_folder+filename for filename in os.listdir(audios_folder)]\n",
    "\n",
    "# Downsample audios to 8kHz, most common telephone rate.\n",
    "# for i in tqdm(range(len(audios_path))):\n",
    "#     signal = am.from_file(audios_path[i], format='wav', frame_rate=768000)\n",
    "#     signal = signal.set_frame_rate(8000)\n",
    "#     signal.export(downsampled_audios_path[i], format='wav')"
   ]
  },
  {
   "cell_type": "markdown",
   "metadata": {},
   "source": [
    "**Generator**: We will make a generator that will feed the audio and its transcription, without loading the whole databse to memory."
   ]
  },
  {
   "cell_type": "code",
   "execution_count": 31,
   "metadata": {},
   "outputs": [],
   "source": [
    "def data_generator(audios_folder: List[str], transcriptions_folder: List[str]) -> tuple:\n",
    "    \"\"\"Generator that feeds audio, transcription and filename tuple.\n",
    "    \"\"\"\n",
    "    # For each audio filename in the audio folder\n",
    "    filenames = os.listdir(audios_folder)\n",
    "    for f in filenames:\n",
    "        # Open the audio filename and read audio bytes\n",
    "        with io.open(audios_folder+f, 'rb') as audio_file:\n",
    "            audio_data = audio_file.read()\n",
    "        # Open the transcription with the same filename and read to string\n",
    "        with open(transcriptions_folder + f.replace('.wav','.txt')) as file:\n",
    "            transcription = file.read().strip('\\n')\n",
    "        yield (audio_data, transcription, f)"
   ]
  },
  {
   "cell_type": "code",
   "execution_count": 32,
   "metadata": {},
   "outputs": [
    {
     "name": "stdout",
     "output_type": "stream",
     "text": [
      "ground truth: The goals were good.\n"
     ]
    },
    {
     "data": {
      "text/html": [
       "\n",
       "                <audio  controls=\"controls\" >\n",
       "                    <source src=\"data:audio/wav;base64,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\" type=\"audio/wav\" />\n",
       "                    Your browser does not support the audio element.\n",
       "                </audio>\n",
       "              "
      ],
      "text/plain": [
       "<IPython.lib.display.Audio object>"
      ]
     },
     "execution_count": 32,
     "metadata": {},
     "output_type": "execute_result"
    }
   ],
   "source": [
    "# Build generator\n",
    "downsampled_generator = data_generator(downsampled_folder, transcriptions_folder)\n",
    "# test\n",
    "audio_data, transcription, file = next(downsampled_generator)\n",
    "print(f\"ground truth: {transcription}\")\n",
    "# Listen\n",
    "ipd.Audio(audio_data, rate=8000) # load a local WAV file"
   ]
  },
  {
   "cell_type": "markdown",
   "metadata": {},
   "source": [
    "## Testing\n",
    "\n",
    "**Google**: Google's API needs to use some *json* credentials. We will save them in the `credentials/google_credentials.json` path. We also set two parameters: `sample_rate_hertz=8000` and `model='phone_call'`, because we are dealing with phonecall quality audio.  \n",
    "We will save all the results in a `tsv` file with the structure `transcript|ground_truth|filename`."
   ]
  },
  {
   "cell_type": "code",
   "execution_count": 19,
   "metadata": {},
   "outputs": [],
   "source": [
    "# Load credentials\n",
    "\n",
    "if not os.path.isfile(\"credentials/google_credentials.json\"):\n",
    "    raise Exception(\"No credentials found, wont be able to use google's API\")\n",
    "else:\n",
    "    os.environ[\"GOOGLE_APPLICATION_CREDENTIALS\"]=\"credentials/google_credentials.json\""
   ]
  },
  {
   "cell_type": "code",
   "execution_count": 118,
   "metadata": {
    "scrolled": true
   },
   "outputs": [
    {
     "name": "stdout",
     "output_type": "stream",
     "text": [
      "Transcript: The goals we're good., Ground truth: The goals were good.\n",
      "Transcript: They said said I would look good in uniform., Ground truth: They said so that I would look good in uniform.\n",
      "Transcript: 64 Salem Seekers left the offices of reported, Ground truth: Six of the asylum seekers left the offices, it was reported.\n",
      "Transcript: They might have the last laugh., Ground truth: They may yet have the last laugh.\n",
      "Transcript: question later, Ground truth: It's quite a line-up!\n",
      "Transcript: Miss McNeil with killed Olympics, Ground truth: Ms McNeill was killed on impact.\n",
      "Transcript: The record companies have come through the floor., Ground truth: The record companies have gone through the floor.\n",
      "Transcript: This is me., Ground truth: Does this mean.\n",
      "Transcript: The departure of Mr. Johnston it was reported by the Harold yesterday., Ground truth: The departure of Mr Johnston was reported by The Herald yesterday.\n",
      "Transcript: It is a whole package., Ground truth: It is the whole package.\n",
      "Transcript: The difference in the rainbow depends considerably upon the size of the drops and the width of the colored band increases as the size of the drops increases., Ground truth: The difference in the rainbow depends considerably upon the size of the drops, and the width of the colored band increases as the size of the drops increases. \n",
      "Transcript: This is the first ticket at the Scottish poem election., Ground truth: This is the first big idea of the Scottish Parliament election.\n",
      "Transcript: We've made a couple of albums., Ground truth: We've made a couple of albums.\n",
      "Transcript: Superpages cool Ford inquiring, so please respond, Ground truth: He repeated his call for an inquiry into the police response.\n",
      "Transcript: It was clear., Ground truth: It was clear.\n",
      "Transcript: Look at the witnesses., Ground truth: Look at the witnesses.\n",
      "Transcript: Mashanda suggest they put the brave face on the departure., Ground truth: Ms Anderson yesterday put a brave face on the departure.\n",
      "Transcript: I thought you said to him., Ground truth: I have so much respect for him.\n",
      "Transcript: The council has proposed a temporary Barry. It's protective Monument., Ground truth: The council has proposed a temporary barrier to protect the monument.\n",
      "Transcript: once it necessarily while, Ground truth: We wanted it left for a wee while.\n",
      "Transcript: Joseph it's in describes a part of outrageous and describe for decision., Ground truth: George Robertson described the plan as an outrageous and disgraceful decision.\n",
      "Transcript: Well the big day has arrived., Ground truth: Well, the big day has arrived.\n",
      "Transcript: Would like to the response from potential employees., Ground truth: We are delighted at the response from potential employers.\n",
      "Transcript: The whole thing is doing to maybe with the mix., Ground truth: The whole thing of doing the movie was a risk.\n",
      "Transcript: It's very old., Ground truth: It's very odd.\n",
      "Transcript: Tell us about it., Ground truth: Tell us about it.\n",
      "Transcript: Hello, it's Kristen., Ground truth: However, it's good to turn the page.\n",
      "Transcript: Stephanie Concept in job, Ground truth: It's not a new concept in jazz.\n",
      "Transcript: Finally to pay for the movie., Ground truth: Finally, he paid for the movie.\n",
      "Transcript: She is CPAP., Ground truth: She is superb.\n",
      "Transcript: CU collections extremely important, Ground truth: So the European elections are extremely important.\n",
      "Transcript: I've never seen a play about me., Ground truth: I'd never seen a play about me.\n",
      "Transcript: What a mom, that's something Beyond has reached friend. So he's looking for the parts of gold at the end of the rainbow., Ground truth: When a man looks for something beyond his reach, his friends say he is looking for the pot of gold at the end of the rainbow. \n",
      "Transcript: Lionel looking at the degrees of injury., Ground truth: We are now looking at the degrees of injury.\n",
      "Transcript: That was a lesson to be long from the European championships., Ground truth: That was the lesson to be learned from the European Championships.\n",
      "Transcript: This is expected to be in hospital for several days., Ground truth: The singer is expected to be in hospital for several days.\n",
      "Transcript: She died and hospital two hours. Later., Ground truth: She died in hospital two hours later.\n",
      "Transcript: results of sometimes contentious, Ground truth: The results are sometimes contentious.\n",
      "Transcript: She is free., Ground truth: She is free.\n",
      "Transcript: They could be a way back., Ground truth: There could be a way back.\n",
      "Transcript: I watch the game., Ground truth: I watched a game.\n",
      "Transcript: Mr. Anderson was not acting in the coast of his employment., Ground truth: Mr Anderson was not acting in the course of his employment.\n",
      "Transcript: Wilson you too. Small plastic snake in a big toy frog for the kids., Ground truth: We also need a small plastic snake and a big toy frog for the kids.  \n",
      "Transcript: Finally paid for the movie., Ground truth: Finally, he paid for the movie.\n",
      "Transcript: I was just trying to win the golf tournament., Ground truth: I was just trying to win the golf tournament.\n",
      "Transcript: You see the different from the start of the two teams., Ground truth: He sees a difference in the style of the two teams.\n",
      "Transcript: No preference. Imagine., Ground truth: No preference emerged.\n",
      "Transcript: I need to move away from the coach of Long Island., Ground truth: We need to move away from the culture of long hours.\n",
      "Transcript: Since then he's played not too far from the company., Ground truth: Since then, he has played no active part in the company.\n",
      "Transcript: this is tried to explain this and I'm gonna physically, Ground truth: Others have tried to explain the phenomenon physically. \n"
     ]
    }
   ],
   "source": [
    "# Imports the Google Cloud client library\n",
    "from google.cloud import speech\n",
    "from google.cloud.speech import enums\n",
    "from google.cloud.speech import types\n",
    "\n",
    "# file to save results\n",
    "if not os.path.exists('results/google.csv'):\n",
    "    with open('results/google.csv', 'w') as f:\n",
    "        f.write('google_api|ground_truth|filename\\n')\n",
    "\n",
    "# Instantiates a client\n",
    "client = speech.SpeechClient()\n",
    "\n",
    "# Generator\n",
    "downsampled_generator = data_generator(downsampled_folder, transcriptions_folder)\n",
    "\n",
    "for i in range(50):\n",
    "    # Fetch data\n",
    "    audio_data, ground_truth, file = next(downsampled_generator)\n",
    "\n",
    "    # Config post, use 'phone_call', given that we are working with 8khz\n",
    "    audio = types.RecognitionAudio(content=audio_data)\n",
    "    config = types.RecognitionConfig(\n",
    "        encoding=enums.RecognitionConfig.AudioEncoding.LINEAR16,\n",
    "        sample_rate_hertz=8000,\n",
    "        language_code='en-US',\n",
    "        model='phone_call')\n",
    "\n",
    "    # Transcribe\n",
    "    response = client.recognize(config, audio)\n",
    "    \n",
    "    # Write to file\n",
    "    for result in response.results:\n",
    "        print(f'Transcript: {result.alternatives[0].transcript}, Ground truth: {ground_truth}')\n",
    "    with open('results/google.csv', 'a') as f:\n",
    "        f.write(f'{result.alternatives[0].transcript}|{ground_truth}|{file}\\n')"
   ]
  },
  {
   "cell_type": "markdown",
   "metadata": {},
   "source": [
    "**rev.ai**: [API documentation](https://pypi.org/project/rev-ai). Rev's API needs to use a token. We will save it in the `credentials/rev_token.txt` path. The API wont let use set any parameter regarding the audio quality or choosing a model, thus, it must infer it.  \n",
    "We will save the results in a `tsv` file with the structure `transcription|ground_truth|filename`"
   ]
  },
  {
   "cell_type": "code",
   "execution_count": null,
   "metadata": {},
   "outputs": [],
   "source": [
    "from rev_ai import apiclient\n",
    "\n",
    "# Load credentials\n",
    "if not os.path.isfile(\"credentials/rev_token.txt\"):\n",
    "    raise Exception(\"No credentials found, wont be able to use rev's API\")\n",
    "else:\n",
    "    with open('credentials/rev_token.txt', 'r') as token:\n",
    "        token_ = token.read().replace('\\n', '')\n",
    "        client = apiclient.RevAiAPIClient(token_)\n"
   ]
  },
  {
   "cell_type": "markdown",
   "metadata": {},
   "source": [
    "### Attention!\n",
    "\n",
    "There seems to be a bug in the API, where the 8Khz file is passed as an 16Khz WAV, thus it's inferred duration is too low and the model fails.  \n",
    "Thus, to make a quick comparison experiment, I uploaded through Rev's webpage dashboard 20 audios."
   ]
  },
  {
   "cell_type": "code",
   "execution_count": 205,
   "metadata": {
    "scrolled": true
   },
   "outputs": [
    {
     "name": "stdout",
     "output_type": "stream",
     "text": [
      "audio/Noisy speech database - Valentini/downsampled_audios/p232_137.wav\n"
     ]
    },
    {
     "ename": "HTTPError",
     "evalue": "409 Client Error: Conflict for url: https://api.rev.ai/speechtotext/v1/jobs/yxojyNM5C1ba/transcript; Server Response : {\"allowed_values\":[\"transcribed\"],\"current_value\":\"failed\",\"type\":\"https://www.rev.ai/api/v1/errors/invalid-job-state\",\"title\":\"Job is in invalid state\",\"status\":409,\"detail\":\"Job is in invalid state to obtain the output\",\"extensions\":{}}",
     "output_type": "error",
     "traceback": [
      "\u001b[0;31m---------------------------------------------------------------------------\u001b[0m",
      "\u001b[0;31mHTTPError\u001b[0m                                 Traceback (most recent call last)",
      "\u001b[0;32m<ipython-input-205-23cded310211>\u001b[0m in \u001b[0;36m<module>\u001b[0;34m\u001b[0m\n\u001b[1;32m      5\u001b[0m \u001b[0mjob\u001b[0m \u001b[0;34m=\u001b[0m \u001b[0mclient\u001b[0m\u001b[0;34m.\u001b[0m\u001b[0msubmit_job_local_file\u001b[0m\u001b[0;34m(\u001b[0m\u001b[0mtmp_path\u001b[0m\u001b[0;34m,\u001b[0m \u001b[0mspeaker_channels_count\u001b[0m\u001b[0;34m=\u001b[0m\u001b[0;36m1\u001b[0m\u001b[0;34m)\u001b[0m\u001b[0;34m\u001b[0m\u001b[0;34m\u001b[0m\u001b[0m\n\u001b[1;32m      6\u001b[0m \u001b[0;34m\u001b[0m\u001b[0m\n\u001b[0;32m----> 7\u001b[0;31m \u001b[0mtranscript_text\u001b[0m \u001b[0;34m=\u001b[0m \u001b[0mclient\u001b[0m\u001b[0;34m.\u001b[0m\u001b[0mget_transcript_text\u001b[0m\u001b[0;34m(\u001b[0m\u001b[0mjob\u001b[0m\u001b[0;34m.\u001b[0m\u001b[0mid\u001b[0m\u001b[0;34m)\u001b[0m\u001b[0;34m\u001b[0m\u001b[0;34m\u001b[0m\u001b[0m\n\u001b[0m\u001b[1;32m      8\u001b[0m \u001b[0mprint\u001b[0m\u001b[0;34m(\u001b[0m\u001b[0;34mf'Transcript: {transcript_text}, Ground truth: {ground_truth}'\u001b[0m\u001b[0;34m)\u001b[0m\u001b[0;34m\u001b[0m\u001b[0;34m\u001b[0m\u001b[0m\n",
      "\u001b[0;32m~/anaconda3/envs/asr/lib/python3.8/site-packages/rev_ai/apiclient.py\u001b[0m in \u001b[0;36mget_transcript_text\u001b[0;34m(self, id_)\u001b[0m\n\u001b[1;32m    205\u001b[0m             \u001b[0;32mraise\u001b[0m \u001b[0mValueError\u001b[0m\u001b[0;34m(\u001b[0m\u001b[0;34m'id_ must be provided'\u001b[0m\u001b[0;34m)\u001b[0m\u001b[0;34m\u001b[0m\u001b[0;34m\u001b[0m\u001b[0m\n\u001b[1;32m    206\u001b[0m \u001b[0;34m\u001b[0m\u001b[0m\n\u001b[0;32m--> 207\u001b[0;31m         response = self._make_http_request(\n\u001b[0m\u001b[1;32m    208\u001b[0m             \u001b[0;34m\"GET\"\u001b[0m\u001b[0;34m,\u001b[0m\u001b[0;34m\u001b[0m\u001b[0;34m\u001b[0m\u001b[0m\n\u001b[1;32m    209\u001b[0m             \u001b[0murljoin\u001b[0m\u001b[0;34m(\u001b[0m\u001b[0mself\u001b[0m\u001b[0;34m.\u001b[0m\u001b[0mbase_url\u001b[0m\u001b[0;34m,\u001b[0m \u001b[0;34m'jobs/{}/transcript'\u001b[0m\u001b[0;34m.\u001b[0m\u001b[0mformat\u001b[0m\u001b[0;34m(\u001b[0m\u001b[0mid_\u001b[0m\u001b[0;34m)\u001b[0m\u001b[0;34m)\u001b[0m\u001b[0;34m,\u001b[0m\u001b[0;34m\u001b[0m\u001b[0;34m\u001b[0m\u001b[0m\n",
      "\u001b[0;32m~/anaconda3/envs/asr/lib/python3.8/site-packages/rev_ai/baseclient.py\u001b[0m in \u001b[0;36m_make_http_request\u001b[0;34m(self, method, url, **kwargs)\u001b[0m\n\u001b[1;32m     51\u001b[0m \u001b[0;34m\u001b[0m\u001b[0m\n\u001b[1;32m     52\u001b[0m         \u001b[0;32mtry\u001b[0m\u001b[0;34m:\u001b[0m\u001b[0;34m\u001b[0m\u001b[0;34m\u001b[0m\u001b[0m\n\u001b[0;32m---> 53\u001b[0;31m             \u001b[0mresponse\u001b[0m\u001b[0;34m.\u001b[0m\u001b[0mraise_for_status\u001b[0m\u001b[0;34m(\u001b[0m\u001b[0;34m)\u001b[0m\u001b[0;34m\u001b[0m\u001b[0;34m\u001b[0m\u001b[0m\n\u001b[0m\u001b[1;32m     54\u001b[0m             \u001b[0;32mreturn\u001b[0m \u001b[0mresponse\u001b[0m\u001b[0;34m\u001b[0m\u001b[0;34m\u001b[0m\u001b[0m\n\u001b[1;32m     55\u001b[0m         \u001b[0;32mexcept\u001b[0m \u001b[0mHTTPError\u001b[0m \u001b[0;32mas\u001b[0m \u001b[0merr\u001b[0m\u001b[0;34m:\u001b[0m\u001b[0;34m\u001b[0m\u001b[0;34m\u001b[0m\u001b[0m\n",
      "\u001b[0;32m~/anaconda3/envs/asr/lib/python3.8/site-packages/requests/models.py\u001b[0m in \u001b[0;36mraise_for_status\u001b[0;34m(self)\u001b[0m\n\u001b[1;32m    939\u001b[0m         \u001b[0;32mif\u001b[0m \u001b[0mhttp_error_msg\u001b[0m\u001b[0;34m:\u001b[0m\u001b[0;34m\u001b[0m\u001b[0;34m\u001b[0m\u001b[0m\n\u001b[1;32m    940\u001b[0m             \u001b[0;32mraise\u001b[0m \u001b[0mHTTPError\u001b[0m\u001b[0;34m(\u001b[0m\u001b[0mhttp_error_msg\u001b[0m\u001b[0;34m,\u001b[0m \u001b[0mresponse\u001b[0m\u001b[0;34m=\u001b[0m\u001b[0mself\u001b[0m\u001b[0;34m)\u001b[0m\u001b[0;34m\u001b[0m\u001b[0;34m\u001b[0m\u001b[0m\n\u001b[0;32m--> 941\u001b[0;31m \u001b[0;34m\u001b[0m\u001b[0m\n\u001b[0m\u001b[1;32m    942\u001b[0m     \u001b[0;32mdef\u001b[0m \u001b[0mclose\u001b[0m\u001b[0;34m(\u001b[0m\u001b[0mself\u001b[0m\u001b[0;34m)\u001b[0m\u001b[0;34m:\u001b[0m\u001b[0;34m\u001b[0m\u001b[0;34m\u001b[0m\u001b[0m\n\u001b[1;32m    943\u001b[0m         \"\"\"Releases the connection back to the pool. Once this method has been\n",
      "\u001b[0;31mHTTPError\u001b[0m: 409 Client Error: Conflict for url: https://api.rev.ai/speechtotext/v1/jobs/yxojyNM5C1ba/transcript; Server Response : {\"allowed_values\":[\"transcribed\"],\"current_value\":\"failed\",\"type\":\"https://www.rev.ai/api/v1/errors/invalid-job-state\",\"title\":\"Job is in invalid state\",\"status\":409,\"detail\":\"Job is in invalid state to obtain the output\",\"extensions\":{}}"
     ]
    }
   ],
   "source": [
    "###############################\n",
    "# Wont run, see comment above #\n",
    "###############################\n",
    "\n",
    "# rev_downsampled_generator = data_generator(downsampled_folder, transcriptions_folder)\n",
    "# audio_data, ground_truth, file = next(rev_downsampled_generator)\n",
    "# tmp_path = downsampled_folder+file\n",
    "# print(tmp_path)\n",
    "# job = client.submit_job_local_file(tmp_path, speaker_channels_count=1)\n",
    "\n",
    "# transcript_text = client.get_transcript_text(job.id)\n",
    "# print(f'Transcript: {transcript_text}, Ground truth: {ground_truth}')"
   ]
  },
  {
   "cell_type": "code",
   "execution_count": 87,
   "metadata": {},
   "outputs": [],
   "source": [
    "# Move audios tested on google to a new folder for manual uploading to rev.ai\n",
    "\n",
    "from shutil import copyfile\n",
    "with open('results/google.csv', 'r') as f:\n",
    "    file = f.read().split('\\n')\n",
    "filenames = [downsampled_folder+f.split(',')[-1] for f in file][1:-1]\n",
    "for f in filenames:\n",
    "    copyfile(f, 'results/audios_tested/'+f.split('/')[-1])"
   ]
  },
  {
   "cell_type": "code",
   "execution_count": 117,
   "metadata": {
    "scrolled": true
   },
   "outputs": [
    {
     "name": "stdout",
     "output_type": "stream",
     "text": [
      "Transcript: I'd never seen a play about me. , Ground truth: I'd never seen a play about me.\n",
      "\n",
      "Transcript: When a man looks for something beyond his reach friends. So he's looking for the pot of gold at the end of the rainbow. , Ground truth: When a man looks for something beyond his reach, his friends say he is looking for the pot of gold at the end of the rainbow. \n",
      "\n",
      "Transcript: We are now looking at the degrees of injury. , Ground truth: We are now looking at the degrees of injury.\n",
      "\n",
      "Transcript: That was the lesson to be learned from the European championships. , Ground truth: That was the lesson to be learned from the European Championships.\n",
      "\n",
      "Transcript: This interview is expected to be in hospital for several days. , Ground truth: The singer is expected to be in hospital for several days.\n",
      "\n",
      "Transcript: She died in hospital two hours later. , Ground truth: She died in hospital two hours later.\n",
      "\n",
      "Transcript: Results is sometimes contentious. , Ground truth: The results are sometimes contentious.\n",
      "\n",
      "Transcript: Mr. Anderson was not acting in the course of his employment. , Ground truth: Mr Anderson was not acting in the course of his employment.\n",
      "\n",
      "Transcript: We will send you the small plastic snake and a big toy frog for the kids. , Ground truth: We also need a small plastic snake and a big toy frog for the kids.  \n",
      "\n",
      "Transcript: Finally, he paid for the movie. , Ground truth: Finally, he paid for the movie.\n",
      "\n",
      "Transcript: I was just trying to win the golf tournament. , Ground truth: I was just trying to win the golf tournament.\n",
      "\n",
      "Transcript: Mr. Anderson was not acting in the course of his employment. , Ground truth: Mr Anderson was not acting in the course of his employment.\n",
      "\n",
      "Transcript: We will send you the small plastic snake and a big toy frog for the kids. , Ground truth: We also need a small plastic snake and a big toy frog for the kids.  \n",
      "\n",
      "Transcript: Finally, he paid for the movie. , Ground truth: Finally, he paid for the movie.\n",
      "\n",
      "Transcript: I was just trying to win the golf tournament. , Ground truth: I was just trying to win the golf tournament.\n",
      "\n",
      "Transcript: He sees a difference in the style of the two teams. , Ground truth: He sees a difference in the style of the two teams.\n",
      "\n",
      "Transcript: No preference emerged. , Ground truth: No preference emerged.\n",
      "\n",
      "Transcript: We need to move away from the culture of long Island. , Ground truth: We need to move away from the culture of long hours.\n",
      "\n",
      "Transcript: Since then he has played no active part in the company. , Ground truth: Since then, he has played no active part in the company.\n",
      "\n"
     ]
    }
   ],
   "source": [
    "# Get the last 20 audios sent to transcribe manually\n",
    "\n",
    "jobs = client.get_list_of_jobs(limit=20)\n",
    "\n",
    "# file to save results\n",
    "if not os.path.exists('results/rev.csv'):\n",
    "    with open('results/rev.csv', 'w') as f:\n",
    "        f.write('rev_api|ground_truth|filename\\n')\n",
    "\n",
    "# FOr each transcription job, get transcript and append to file\n",
    "for j in jobs:\n",
    "    try:\n",
    "        transcript = client.get_transcript_text(j.id)\n",
    "        transcript = transcript.split('  ')[-1].replace('\\n','')\n",
    "        tmp_path = transcriptions_folder + j.name.replace('wav', 'txt')\n",
    "        with open(tmp_path, 'r') as f:\n",
    "            ground_truth = f.read()\n",
    "        print(f'Transcript: {transcript}, Ground truth: {ground_truth}')\n",
    "        with open('results/rev.csv', 'a') as f:\n",
    "            f.write(f\"{transcript}|{ground_truth}|{j.name}\\n\")\n",
    "    except:\n",
    "        next"
   ]
  },
  {
   "cell_type": "markdown",
   "metadata": {},
   "source": [
    "## Results\n",
    "\n",
    "**Process**: We have two files, one for each API, with thir transcriptions and the filename of the audio. We will:\n",
    "1. Inner join the two results `tsv` by audio filename, so as to compare only the audios both transcribed.\n",
    "2. Get the WER of each API.\n",
    "3. Graph WER distributions."
   ]
  },
  {
   "cell_type": "code",
   "execution_count": 215,
   "metadata": {},
   "outputs": [],
   "source": [
    "import pandas as pd\n",
    "\n",
    "# Inner join rev's and google's trancriptions into a dataframe, using the filename as key\n",
    "rev = pd.read_csv('results/rev.csv', sep='|')\n",
    "google = pd.read_csv('results/google.csv', sep='|')\n",
    "data = pd.merge(rev, google, on=['filename', 'ground_truth'], suffixes=['_rev','_google'])"
   ]
  },
  {
   "cell_type": "markdown",
   "metadata": {},
   "source": [
    "**Overall WER**"
   ]
  },
  {
   "cell_type": "code",
   "execution_count": 222,
   "metadata": {},
   "outputs": [
    {
     "name": "stdout",
     "output_type": "stream",
     "text": [
      "Rev's wer:0.0829, google's wer: 0.2878.\n",
      "Rev's wer is 0.2881 times that of google's.\n",
      "Disclaimer: tested on 20 open access audios.\n"
     ]
    }
   ],
   "source": [
    "# Compute WER for each API\n",
    "rev_wer = calc_wer(data['ground_truth'].tolist(), data['rev_api'].tolist())\n",
    "google_wer = calc_wer(data['ground_truth'].tolist(), data['google_api'].tolist())\n",
    "print(f\"Rev's wer:{rev_wer:.4f}, google's wer: {google_wer:.4f}.\\nRev's wer is {rev_wer/google_wer:.4f} times that of google's.\")\n",
    "print(f\"Disclaimer: tested on {data.shape[0]} open access audios.\")"
   ]
  },
  {
   "cell_type": "markdown",
   "metadata": {},
   "source": [
    "**WER distribution**"
   ]
  },
  {
   "cell_type": "code",
   "execution_count": 223,
   "metadata": {},
   "outputs": [],
   "source": [
    "# Individual transcriptions WER\n",
    "data['rev_wer'] = data.apply(lambda x: calc_wer(x['ground_truth'], x['rev_api']), axis=1)\n",
    "data['google_wer'] = data.apply(lambda x: calc_wer(x['ground_truth'], x['google_api']), axis=1)\n",
    "# reformat dataframe for plotting\n",
    "wers = pd.DataFrame()\n",
    "wers['wer'] = np.append(data['rev_wer'], data['google_wer'])\n",
    "wers['api'] = ['rev' for _ in range(data.shape[0])] + ['google' for _ in range(data.shape[0])]"
   ]
  },
  {
   "cell_type": "code",
   "execution_count": 231,
   "metadata": {},
   "outputs": [
    {
     "data": {
      "text/plain": [
       "Text(0.5, 0.98, 'Google vs Rev STT')"
      ]
     },
     "execution_count": 231,
     "metadata": {},
     "output_type": "execute_result"
    },
    {
     "data": {
      "image/png": "[encoded data removed]",
      "text/plain": [
       "<Figure size 842.4x595.44 with 2 Axes>"
      ]
     },
     "metadata": {},
     "output_type": "display_data"
    }
   ],
   "source": [
    "import seaborn as sns\n",
    "from matplotlib import pyplot as plt\n",
    "\n",
    "f, axs = plt.subplots(2, 1)\n",
    "#sns.set(rc={'figure.figsize':(20,10)})\n",
    "f.set_size_inches(11.7, 8.27)\n",
    "_ = sns.barplot(data=wers, x=\"wer\", y=\"api\", ax=axs[0]).set(xlim=(0, 1.0))\n",
    "_ = sns.kdeplot(data=wers, x=\"wer\", hue=\"api\", fill=True, ax=axs[1], bw_adjust=0.8).set(xlim=(0, 1.0))\n",
    "_ = axs[0].xaxis.set_label_text('Word error rate')\n",
    "_ = axs[1].xaxis.set_label_text('Word error rate')\n",
    "f.suptitle(f'Google vs Rev STT', fontsize=14)"
   ]
  }
 ],
 "metadata": {
  "kernelspec": {
   "display_name": "Python 3",
   "language": "python",
   "name": "python3"
  },
  "language_info": {
   "codemirror_mode": {
    "name": "ipython",
    "version": 3
   },
   "file_extension": ".py",
   "mimetype": "text/x-python",
   "name": "python",
   "nbconvert_exporter": "python",
   "pygments_lexer": "ipython3",
   "version": "3.8.5"
  }
 },
 "nbformat": 4,
 "nbformat_minor": 4
}
